{
 "cells": [
  {
   "cell_type": "code",
   "execution_count": 1,
   "id": "518eaeaa-48aa-44c7-8b84-a561d6b01bb4",
   "metadata": {},
   "outputs": [],
   "source": [
    "import pandas as pd\n",
    "import numpy as np\n",
    "import matplotlib.pyplot as plt\n",
    "import seaborn as sns\n",
    "from sklearn.model_selection import train_test_split\n",
    "from sklearn.ensemble import RandomForestRegressor\n",
    "from sklearn.metrics import mean_absolute_error, r2_score\n",
    "import os"
   ]
  },
  {
   "cell_type": "markdown",
   "id": "4c20e0ae-85d8-4659-aa18-f383beab67e4",
   "metadata": {},
   "source": [
    "## Version 1 - Raw"
   ]
  },
  {
   "cell_type": "code",
   "execution_count": 3,
   "id": "0c7439f5-1087-4594-bf44-55e89831feb4",
   "metadata": {},
   "outputs": [
    {
     "name": "stdout",
     "output_type": "stream",
     "text": [
      "HEAD is now at e67b9f0 data: Add raw athletes dataset v1\n",
      "Building workspace index                              |0.00 [00:00,    ?entry/s]\n",
      "Comparing indexes                                    |1.00 [00:00, 2.44kentry/s]\n",
      "Applying changes                                      |0.00 [00:00,     ?file/s]\n",
      "\u001b[0m\n",
      "Checkout complete. 'data/athletes.csv' is now the v1 raw version.\n",
      "ls: data/athletes.csv: No such file or directory\n"
     ]
    }
   ],
   "source": [
    "!git checkout v1-raw\n",
    "!dvc checkout\n",
    "\n",
    "print(\"\\nCheckout complete. 'data/athletes.csv' is now the v1 raw version.\")\n",
    "# Verify the file exists\n",
    "!ls -lh data/athletes.csv"
   ]
  },
  {
   "cell_type": "code",
   "execution_count": null,
   "id": "9fb60716-ac46-4cfc-a886-eff3229a1365",
   "metadata": {},
   "outputs": [],
   "source": []
  }
 ],
 "metadata": {
  "kernelspec": {
   "display_name": "Python 3 (ipykernel)",
   "language": "python",
   "name": "python3"
  },
  "language_info": {
   "codemirror_mode": {
    "name": "ipython",
    "version": 3
   },
   "file_extension": ".py",
   "mimetype": "text/x-python",
   "name": "python",
   "nbconvert_exporter": "python",
   "pygments_lexer": "ipython3",
   "version": "3.12.4"
  }
 },
 "nbformat": 4,
 "nbformat_minor": 5
}
